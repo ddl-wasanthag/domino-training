{
 "cells": [
  {
   "cell_type": "code",
   "execution_count": 2,
   "id": "2f2933f0-38f0-4a43-bbe4-6710388a98de",
   "metadata": {
    "tags": []
   },
   "outputs": [],
   "source": [
    "import pandas as pd\n",
    "import numpy as np\n",
    "import random\n",
    "import math\n",
    "import pickle\n",
    "import json\n",
    "import os\n",
    "import requests\n",
    "import datetime\n",
    "import boto3\n",
    "from botocore.exceptions import NoCredentialsError\n",
    "from domino.training_sets import TrainingSetClient, model\n",
    "\n",
    "#set DMM vars\n",
    "bucket = 'wine-quality-monitoring'\n",
    "\n",
    "#Load in data"
   ]
  },
  {
   "cell_type": "code",
   "execution_count": 3,
   "id": "0aaa2fb6-1546-4075-9778-695f515e0850",
   "metadata": {
    "tags": []
   },
   "outputs": [
    {
     "name": "stdout",
     "output_type": "stream",
     "text": [
      "Reading in data for batch scoring\n"
     ]
    }
   ],
   "source": [
    "print('Reading in data for batch scoring')\n",
    "df = TrainingSetClient.get_training_set_version('winequality-training-domino-admin', number = 1).load_raw_pandas()"
   ]
  },
  {
   "cell_type": "code",
   "execution_count": 4,
   "id": "c36d759d-2784-4a7d-8c38-515e6a2105eb",
   "metadata": {
    "tags": []
   },
   "outputs": [
    {
     "data": {
      "text/html": [
       "<div>\n",
       "<style scoped>\n",
       "    .dataframe tbody tr th:only-of-type {\n",
       "        vertical-align: middle;\n",
       "    }\n",
       "\n",
       "    .dataframe tbody tr th {\n",
       "        vertical-align: top;\n",
       "    }\n",
       "\n",
       "    .dataframe thead th {\n",
       "        text-align: right;\n",
       "    }\n",
       "</style>\n",
       "<table border=\"1\" class=\"dataframe\">\n",
       "  <thead>\n",
       "    <tr style=\"text-align: right;\">\n",
       "      <th></th>\n",
       "      <th>id</th>\n",
       "      <th>density</th>\n",
       "      <th>volatile_acidity</th>\n",
       "      <th>chlorides</th>\n",
       "      <th>is_red</th>\n",
       "      <th>alcohol</th>\n",
       "      <th>quality</th>\n",
       "    </tr>\n",
       "  </thead>\n",
       "  <tbody>\n",
       "    <tr>\n",
       "      <th>0</th>\n",
       "      <td>0</td>\n",
       "      <td>1.0010</td>\n",
       "      <td>0.27</td>\n",
       "      <td>0.045</td>\n",
       "      <td>0</td>\n",
       "      <td>8.8</td>\n",
       "      <td>5.58</td>\n",
       "    </tr>\n",
       "    <tr>\n",
       "      <th>1</th>\n",
       "      <td>1</td>\n",
       "      <td>0.9940</td>\n",
       "      <td>0.30</td>\n",
       "      <td>0.049</td>\n",
       "      <td>0</td>\n",
       "      <td>9.5</td>\n",
       "      <td>5.04</td>\n",
       "    </tr>\n",
       "    <tr>\n",
       "      <th>2</th>\n",
       "      <td>2</td>\n",
       "      <td>0.9951</td>\n",
       "      <td>0.28</td>\n",
       "      <td>0.050</td>\n",
       "      <td>0</td>\n",
       "      <td>10.1</td>\n",
       "      <td>5.34</td>\n",
       "    </tr>\n",
       "    <tr>\n",
       "      <th>3</th>\n",
       "      <td>3</td>\n",
       "      <td>0.9956</td>\n",
       "      <td>0.23</td>\n",
       "      <td>0.058</td>\n",
       "      <td>0</td>\n",
       "      <td>9.9</td>\n",
       "      <td>4.92</td>\n",
       "    </tr>\n",
       "    <tr>\n",
       "      <th>4</th>\n",
       "      <td>4</td>\n",
       "      <td>0.9956</td>\n",
       "      <td>0.23</td>\n",
       "      <td>0.058</td>\n",
       "      <td>0</td>\n",
       "      <td>9.9</td>\n",
       "      <td>5.16</td>\n",
       "    </tr>\n",
       "  </tbody>\n",
       "</table>\n",
       "</div>"
      ],
      "text/plain": [
       "   id  density  volatile_acidity  chlorides  is_red  alcohol  quality\n",
       "0   0   1.0010              0.27      0.045       0      8.8     5.58\n",
       "1   1   0.9940              0.30      0.049       0      9.5     5.04\n",
       "2   2   0.9951              0.28      0.050       0     10.1     5.34\n",
       "3   3   0.9956              0.23      0.058       0      9.9     4.92\n",
       "4   4   0.9956              0.23      0.058       0      9.9     5.16"
      ]
     },
     "execution_count": 4,
     "metadata": {},
     "output_type": "execute_result"
    }
   ],
   "source": [
    "df.head()"
   ]
  },
  {
   "cell_type": "code",
   "execution_count": 5,
   "id": "c89eab1f-d669-4941-8d57-800ddbf671dc",
   "metadata": {
    "tags": []
   },
   "outputs": [
    {
     "name": "stderr",
     "output_type": "stream",
     "text": [
      "/tmp/ipykernel_620/2998420595.py:1: FutureWarning: The frame.append method is deprecated and will be removed from pandas in a future version. Use pandas.concat instead.\n",
      "  df2 = df.append(df).reset_index(drop=True)\n"
     ]
    }
   ],
   "source": [
    "df2 = df.append(df).reset_index(drop=True)"
   ]
  },
  {
   "cell_type": "code",
   "execution_count": 6,
   "id": "f3774aa5-9555-40c3-845a-ae8a7555fa78",
   "metadata": {
    "tags": []
   },
   "outputs": [
    {
     "data": {
      "text/plain": [
       "Index(['id', 'density', 'volatile_acidity', 'chlorides', 'is_red', 'alcohol',\n",
       "       'quality'],\n",
       "      dtype='object')"
      ]
     },
     "execution_count": 6,
     "metadata": {},
     "output_type": "execute_result"
    }
   ],
   "source": [
    "df.columns"
   ]
  },
  {
   "cell_type": "code",
   "execution_count": 7,
   "id": "85cf15f0-4067-4ab1-9e54-13f011e15ede",
   "metadata": {
    "tags": []
   },
   "outputs": [],
   "source": [
    "##For each input feature adjust data and round/cast as necessary\n",
    "#Density - 50%-150\n",
    "densityJitter = df2.density.apply(lambda x : x*(random.randrange(50,150))/100).round(4)\n",
    "#volatile acidity - 70%-130%\n",
    "volatileAcidityJitter = df2.volatile_acidity.apply(lambda x : x*(random.randrange(70,130)/100)).round(2)\n",
    "#Chlorides - 80%-120%\n",
    "chloridesJitter = df2.chlorides.apply(lambda x : x*(random.randrange(80,120)/100)).round(3)\n",
    "#is_red - 40%-160%\n",
    "is_redJitter = df2.is_red.apply(lambda x : x*(random.randrange(40,160)/100)).round(0)\n",
    "#alcohol - 90%-110%\n",
    "alcoholJitter = df2.alcohol.apply(lambda x : x*(random.randrange(90,110)/100)).round(1)\n",
    "\n",
    "#Take all the new 'jittered' variables and write to a new df\n",
    "#Keep original custid and churn_Y fields\n",
    "df3 = pd.DataFrame({'id': df2.id,\n",
    "       'density': densityJitter, \n",
    "       'volatile_acidity': volatileAcidityJitter,\n",
    "       'chlorides': chloridesJitter,\n",
    "       'is_red': is_redJitter,\n",
    "       'alcohol': alcoholJitter,\n",
    "       'quality': df2.quality\n",
    "                   })"
   ]
  },
  {
   "cell_type": "code",
   "execution_count": 8,
   "id": "7df2d537-c2b5-43be-bdc4-522977876ab7",
   "metadata": {
    "tags": []
   },
   "outputs": [
    {
     "data": {
      "text/html": [
       "<div>\n",
       "<style scoped>\n",
       "    .dataframe tbody tr th:only-of-type {\n",
       "        vertical-align: middle;\n",
       "    }\n",
       "\n",
       "    .dataframe tbody tr th {\n",
       "        vertical-align: top;\n",
       "    }\n",
       "\n",
       "    .dataframe thead th {\n",
       "        text-align: right;\n",
       "    }\n",
       "</style>\n",
       "<table border=\"1\" class=\"dataframe\">\n",
       "  <thead>\n",
       "    <tr style=\"text-align: right;\">\n",
       "      <th></th>\n",
       "      <th>id</th>\n",
       "      <th>density</th>\n",
       "      <th>volatile_acidity</th>\n",
       "      <th>chlorides</th>\n",
       "      <th>is_red</th>\n",
       "      <th>alcohol</th>\n",
       "      <th>quality</th>\n",
       "    </tr>\n",
       "  </thead>\n",
       "  <tbody>\n",
       "    <tr>\n",
       "      <th>0</th>\n",
       "      <td>0</td>\n",
       "      <td>1.3614</td>\n",
       "      <td>0.19</td>\n",
       "      <td>0.045</td>\n",
       "      <td>0.0</td>\n",
       "      <td>9.5</td>\n",
       "      <td>5.58</td>\n",
       "    </tr>\n",
       "    <tr>\n",
       "      <th>1</th>\n",
       "      <td>1</td>\n",
       "      <td>0.8250</td>\n",
       "      <td>0.37</td>\n",
       "      <td>0.044</td>\n",
       "      <td>0.0</td>\n",
       "      <td>9.2</td>\n",
       "      <td>5.04</td>\n",
       "    </tr>\n",
       "    <tr>\n",
       "      <th>2</th>\n",
       "      <td>2</td>\n",
       "      <td>1.2439</td>\n",
       "      <td>0.31</td>\n",
       "      <td>0.041</td>\n",
       "      <td>0.0</td>\n",
       "      <td>10.9</td>\n",
       "      <td>5.34</td>\n",
       "    </tr>\n",
       "    <tr>\n",
       "      <th>3</th>\n",
       "      <td>3</td>\n",
       "      <td>1.0155</td>\n",
       "      <td>0.29</td>\n",
       "      <td>0.049</td>\n",
       "      <td>0.0</td>\n",
       "      <td>10.3</td>\n",
       "      <td>4.92</td>\n",
       "    </tr>\n",
       "    <tr>\n",
       "      <th>4</th>\n",
       "      <td>4</td>\n",
       "      <td>0.9657</td>\n",
       "      <td>0.27</td>\n",
       "      <td>0.066</td>\n",
       "      <td>0.0</td>\n",
       "      <td>9.7</td>\n",
       "      <td>5.16</td>\n",
       "    </tr>\n",
       "    <tr>\n",
       "      <th>...</th>\n",
       "      <td>...</td>\n",
       "      <td>...</td>\n",
       "      <td>...</td>\n",
       "      <td>...</td>\n",
       "      <td>...</td>\n",
       "      <td>...</td>\n",
       "      <td>...</td>\n",
       "    </tr>\n",
       "    <tr>\n",
       "      <th>12921</th>\n",
       "      <td>6491</td>\n",
       "      <td>1.1858</td>\n",
       "      <td>0.51</td>\n",
       "      <td>0.058</td>\n",
       "      <td>1.0</td>\n",
       "      <td>9.9</td>\n",
       "      <td>5.10</td>\n",
       "    </tr>\n",
       "    <tr>\n",
       "      <th>12922</th>\n",
       "      <td>6492</td>\n",
       "      <td>0.8855</td>\n",
       "      <td>0.49</td>\n",
       "      <td>0.074</td>\n",
       "      <td>1.0</td>\n",
       "      <td>10.4</td>\n",
       "      <td>5.60</td>\n",
       "    </tr>\n",
       "    <tr>\n",
       "      <th>12923</th>\n",
       "      <td>6494</td>\n",
       "      <td>1.3841</td>\n",
       "      <td>0.44</td>\n",
       "      <td>0.074</td>\n",
       "      <td>0.0</td>\n",
       "      <td>11.2</td>\n",
       "      <td>6.18</td>\n",
       "    </tr>\n",
       "    <tr>\n",
       "      <th>12924</th>\n",
       "      <td>6495</td>\n",
       "      <td>0.9756</td>\n",
       "      <td>0.51</td>\n",
       "      <td>0.076</td>\n",
       "      <td>1.0</td>\n",
       "      <td>10.8</td>\n",
       "      <td>5.65</td>\n",
       "    </tr>\n",
       "    <tr>\n",
       "      <th>12925</th>\n",
       "      <td>6496</td>\n",
       "      <td>0.8063</td>\n",
       "      <td>0.27</td>\n",
       "      <td>0.067</td>\n",
       "      <td>1.0</td>\n",
       "      <td>10.3</td>\n",
       "      <td>5.22</td>\n",
       "    </tr>\n",
       "  </tbody>\n",
       "</table>\n",
       "<p>12926 rows × 7 columns</p>\n",
       "</div>"
      ],
      "text/plain": [
       "         id  density  volatile_acidity  chlorides  is_red  alcohol  quality\n",
       "0         0   1.3614              0.19      0.045     0.0      9.5     5.58\n",
       "1         1   0.8250              0.37      0.044     0.0      9.2     5.04\n",
       "2         2   1.2439              0.31      0.041     0.0     10.9     5.34\n",
       "3         3   1.0155              0.29      0.049     0.0     10.3     4.92\n",
       "4         4   0.9657              0.27      0.066     0.0      9.7     5.16\n",
       "...     ...      ...               ...        ...     ...      ...      ...\n",
       "12921  6491   1.1858              0.51      0.058     1.0      9.9     5.10\n",
       "12922  6492   0.8855              0.49      0.074     1.0     10.4     5.60\n",
       "12923  6494   1.3841              0.44      0.074     0.0     11.2     6.18\n",
       "12924  6495   0.9756              0.51      0.076     1.0     10.8     5.65\n",
       "12925  6496   0.8063              0.27      0.067     1.0     10.3     5.22\n",
       "\n",
       "[12926 rows x 7 columns]"
      ]
     },
     "execution_count": 8,
     "metadata": {},
     "output_type": "execute_result"
    }
   ],
   "source": [
    "df3"
   ]
  },
  {
   "cell_type": "code",
   "execution_count": 9,
   "id": "0ee05323-08ee-4102-9cca-7c9ad7034f6a",
   "metadata": {
    "tags": []
   },
   "outputs": [],
   "source": [
    "#Grab between 50 and 500 random rows from jittered data\n",
    "df_inf = df3.sample(n = random.randint(50,100)).reset_index(drop=True)\n",
    "\n",
    "#set up clean customer_ids\n",
    "setup_ids = list(range(0, df_inf.shape[0]))\n",
    "ids = list()\n",
    "for i in setup_ids:\n",
    "    ids.append(str(datetime.date.today())+'_'+str(setup_ids[i]))"
   ]
  },
  {
   "cell_type": "code",
   "execution_count": 10,
   "id": "39c02b5e-6f0d-4dd6-adcd-69603d2b1193",
   "metadata": {
    "tags": []
   },
   "outputs": [
    {
     "name": "stdout",
     "output_type": "stream",
     "text": [
      "Sending 90 records to model API endpoint for scoring\n"
     ]
    }
   ],
   "source": [
    "df_inf['wine_id']=ids    \n",
    "print('Sending {} records to model API endpoint for scoring'.format(df_inf.shape[0]))\n",
    "\n",
    "#Set up dictionaries and lists for loops\n",
    "setup_dict = {}\n",
    "scoring_request = {}\n",
    "results = list()\n",
    "\n",
    "inputs = df_inf[['wine_id','density', 'volatile_acidity', 'chlorides', 'is_red', 'alcohol']]"
   ]
  },
  {
   "cell_type": "code",
   "execution_count": 11,
   "id": "2b7229db-97a1-4210-96fc-abf579ac2d51",
   "metadata": {
    "tags": []
   },
   "outputs": [
    {
     "name": "stdout",
     "output_type": "stream",
     "text": [
      "Scoring complete\n"
     ]
    }
   ],
   "source": [
    "for n in range(inputs.shape[0]):\n",
    "    for i in list(inputs.columns):\n",
    "        setup_dict.update({i :list(inputs[n:n+1].to_dict().get(i).values())[0]})\n",
    "        scoring_request = {'data' : setup_dict}\n",
    "        \n",
    "        \n",
    "    response = requests.post(\"https://rev4mlops.domino-eval.com:443/models/646b7aa803e97e4d244dba2a/latest/model\",\n",
    "    auth=(\n",
    "        \"3OOzvWW9oCneKZnagRZ6ac4lbZ3mseyIxeOB3Yk2XvznYly3tY89UKQgDoatkm2H\",\n",
    "        \"3OOzvWW9oCneKZnagRZ6ac4lbZ3mseyIxeOB3Yk2XvznYly3tY89UKQgDoatkm2H\"\n",
    "    ),\n",
    "        json=scoring_request\n",
    "    )\n",
    "    results.append(response.json().get('result').get('prediction'))\n",
    "\n",
    "print('Scoring complete')"
   ]
  },
  {
   "cell_type": "code",
   "execution_count": 12,
   "id": "b333901c-5e70-45f5-8055-b9b5b418585a",
   "metadata": {
    "tags": []
   },
   "outputs": [
    {
     "name": "stdout",
     "output_type": "stream",
     "text": [
      "True\n",
      "True\n"
     ]
    }
   ],
   "source": [
    "df_ground_truth=df_inf[['wine_id', 'quality']].rename({'wine_id': 'event_id', 'quality' : 'quality_GT'}, axis=1)\n",
    "print(df_ground_truth.shape[0]==inputs.shape[0])\n",
    "print((df_ground_truth.event_id==inputs.wine_id).sum()==df_ground_truth.shape[0])"
   ]
  },
  {
   "cell_type": "code",
   "execution_count": 13,
   "id": "7deb3077-fa88-4125-bc5b-aa85a68c8c6b",
   "metadata": {
    "tags": []
   },
   "outputs": [],
   "source": [
    "gt_file_name = str('GT_Data_') + str(datetime.date.today())+str('.csv')\n",
    "gt_file_path = str('/domino/datasets/local/ground_truth_data/')+gt_file_name\n",
    "df_ground_truth.to_csv(gt_file_path, index=False)"
   ]
  },
  {
   "cell_type": "code",
   "execution_count": 14,
   "id": "5090418b-072c-4b4b-a38e-1729fcc80a9c",
   "metadata": {
    "tags": []
   },
   "outputs": [
    {
     "name": "stdout",
     "output_type": "stream",
     "text": [
      "GT_Data_2023-05-22.csv Upload Successful\n",
      "Data Uploaded to s3 bucket at s3://wine-quality-monitoring/GT_Data_2023-05-22.csv\n",
      "Done!\n"
     ]
    }
   ],
   "source": [
    "def s3_upload(local_file, bucket):\n",
    "    s3 = boto3.client('s3', aws_access_key_id=os.environ['AWS_ACCESS_KEY_ID'],\n",
    "                      aws_secret_access_key=os.environ['AWS_SECRET_ACCESS_KEY'])\n",
    "    \n",
    "    s3_file_name = '{}'.format(os.path.basename(local_file))\n",
    "    \n",
    "    try:\n",
    "        s3.upload_file(local_file, bucket, s3_file_name)\n",
    "        print(str(s3_file_name) + \" Upload Successful\")\n",
    "        return True\n",
    "    except FileNotFoundError:\n",
    "        print(\"The file was not found\")\n",
    "        return False\n",
    "    except NoCredentialsError:\n",
    "        print(\"Credentials not available\")\n",
    "        return False\n",
    "    \n",
    "s3_upload(gt_file_path, bucket)\n",
    "\n",
    "print('Data Uploaded to s3 bucket at s3://{}/{}'.format(bucket, gt_file_name))\n",
    "print('Done!')"
   ]
  },
  {
   "cell_type": "code",
   "execution_count": null,
   "id": "33a896f5-2d13-498b-98cc-787dcab2cc5e",
   "metadata": {},
   "outputs": [],
   "source": []
  }
 ],
 "metadata": {
  "kernelspec": {
   "display_name": "Python 3 (ipykernel)",
   "language": "python",
   "name": "python3"
  },
  "language_info": {
   "codemirror_mode": {
    "name": "ipython",
    "version": 3
   },
   "file_extension": ".py",
   "mimetype": "text/x-python",
   "name": "python",
   "nbconvert_exporter": "python",
   "pygments_lexer": "ipython3",
   "version": "3.9.16"
  }
 },
 "nbformat": 4,
 "nbformat_minor": 5
}

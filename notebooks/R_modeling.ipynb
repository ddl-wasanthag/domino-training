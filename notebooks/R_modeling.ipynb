{
 "cells": [
  {
   "cell_type": "code",
   "execution_count": null,
   "id": "1d152feb-4888-4162-aa5c-33982c18712e",
   "metadata": {},
   "outputs": [],
   "source": [
    "print('Kernal started')"
   ]
  },
  {
   "cell_type": "code",
   "execution_count": null,
   "id": "6c32834e-3e84-4113-8874-2da5c65e38f9",
   "metadata": {},
   "outputs": [],
   "source": [
    "data <- read.csv(file='/domino/datasets/local/wine-data/winequality.csv')"
   ]
  },
  {
   "cell_type": "code",
   "execution_count": null,
   "id": "187a2281-d85d-435b-98e6-bbd6db5d64d0",
   "metadata": {},
   "outputs": [],
   "source": [
    "show(data)"
   ]
  }
 ],
 "metadata": {
  "kernelspec": {
   "display_name": "R",
   "language": "R",
   "name": "ir12"
  },
  "language_info": {
   "name": ""
  }
 },
 "nbformat": 4,
 "nbformat_minor": 5
}

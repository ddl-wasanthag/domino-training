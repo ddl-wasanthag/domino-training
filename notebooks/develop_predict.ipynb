{
 "cells": [
  {
   "cell_type": "code",
   "execution_count": 1,
   "id": "241a0d6d-60ec-4327-bb5f-0b862c7c5684",
   "metadata": {},
   "outputs": [],
   "source": [
    "import pickle\n",
    "import uuid\n",
    "import datetime\n",
    "import numpy as np\n",
    "\n",
    "model_file_name = \"/mnt/models/sklearn_gbm.pkl\"\n",
    "model = pickle.load(open(model_file_name, 'rb'))"
   ]
  },
  {
   "cell_type": "code",
   "execution_count": 20,
   "id": "b10ad792-02b0-4db1-81a6-c30e986c4ee6",
   "metadata": {},
   "outputs": [],
   "source": [
    "import pyuwsgi"
   ]
  },
  {
   "cell_type": "code",
   "execution_count": null,
   "id": "94008789-8ac9-4f0b-99d1-91291a4523cc",
   "metadata": {},
   "outputs": [],
   "source": [
    "!conda config --add channels conda-forge\n",
    "\n",
    "!conda install uwsgi --y"
   ]
  },
  {
   "cell_type": "code",
   "execution_count": 15,
   "id": "1a24c21e-fdf8-449d-8465-c13a439790e5",
   "metadata": {},
   "outputs": [],
   "source": [
    "from requests_oauthlib import OAuth1Session"
   ]
  },
  {
   "cell_type": "code",
   "execution_count": 12,
   "id": "5bf9f00a-f010-4f86-a681-e567b6faddca",
   "metadata": {},
   "outputs": [
    {
     "ename": "ModuleNotFoundError",
     "evalue": "No module named 'oauthlib'",
     "output_type": "error",
     "traceback": [
      "\u001b[0;31m---------------------------------------------------------------------------\u001b[0m",
      "\u001b[0;31mModuleNotFoundError\u001b[0m                       Traceback (most recent call last)",
      "\u001b[0;32m/tmp/ipykernel_547/2205291321.py\u001b[0m in \u001b[0;36m<module>\u001b[0;34m\u001b[0m\n\u001b[0;32m----> 1\u001b[0;31m \u001b[0;32mimport\u001b[0m \u001b[0moauthlib\u001b[0m\u001b[0;34m\u001b[0m\u001b[0;34m\u001b[0m\u001b[0m\n\u001b[0m",
      "\u001b[0;31mModuleNotFoundError\u001b[0m: No module named 'oauthlib'"
     ]
    }
   ],
   "source": [
    "import oauthlib"
   ]
  },
  {
   "cell_type": "code",
   "execution_count": 3,
   "id": "b30aff83-759c-4ca8-aafc-be97944880f5",
   "metadata": {},
   "outputs": [
    {
     "name": "stdout",
     "output_type": "stream",
     "text": [
      "Collecting domino_data_capture\n",
      "  Downloading domino_data_capture-0.1.1-py3-none-any.whl (9.1 kB)\n",
      "Requirement already satisfied: httpx<0.19.0,>=0.15.4 in /opt/conda/lib/python3.8/site-packages (from domino_data_capture) (0.18.2)\n",
      "Requirement already satisfied: attrs<22.0.0,>=20.1.0 in /home/ubuntu/.local/lib/python3.8/site-packages (from domino_data_capture) (21.2.0)\n",
      "Requirement already satisfied: python-dateutil<3.0.0,>=2.8.0 in /home/ubuntu/.local/lib/python3.8/site-packages (from domino_data_capture) (2.8.2)\n",
      "Requirement already satisfied: certifi in /opt/conda/lib/python3.8/site-packages (from httpx<0.19.0,>=0.15.4->domino_data_capture) (2021.10.8)\n",
      "Requirement already satisfied: httpcore<0.14.0,>=0.13.3 in /opt/conda/lib/python3.8/site-packages (from httpx<0.19.0,>=0.15.4->domino_data_capture) (0.13.7)\n",
      "Requirement already satisfied: rfc3986[idna2008]<2,>=1.3 in /opt/conda/lib/python3.8/site-packages (from httpx<0.19.0,>=0.15.4->domino_data_capture) (1.5.0)\n",
      "Requirement already satisfied: sniffio in /opt/conda/lib/python3.8/site-packages (from httpx<0.19.0,>=0.15.4->domino_data_capture) (1.2.0)\n",
      "Requirement already satisfied: anyio==3.* in /opt/conda/lib/python3.8/site-packages (from httpcore<0.14.0,>=0.13.3->httpx<0.19.0,>=0.15.4->domino_data_capture) (3.3.4)\n",
      "Requirement already satisfied: h11<0.13,>=0.11 in /opt/conda/lib/python3.8/site-packages (from httpcore<0.14.0,>=0.13.3->httpx<0.19.0,>=0.15.4->domino_data_capture) (0.12.0)\n",
      "Requirement already satisfied: idna>=2.8 in /opt/conda/lib/python3.8/site-packages (from anyio==3.*->httpcore<0.14.0,>=0.13.3->httpx<0.19.0,>=0.15.4->domino_data_capture) (3.2)\n",
      "Requirement already satisfied: six>=1.5 in /opt/conda/lib/python3.8/site-packages (from python-dateutil<3.0.0,>=2.8.0->domino_data_capture) (1.16.0)\n",
      "Installing collected packages: domino-data-capture\n",
      "Successfully installed domino-data-capture-0.1.1\n"
     ]
    }
   ],
   "source": [
    "!pip install domino_data_capture"
   ]
  },
  {
   "cell_type": "code",
   "execution_count": 4,
   "id": "b987092b-5b41-4d3f-8c1e-5d14aa1d97b1",
   "metadata": {},
   "outputs": [],
   "source": [
    "# from domino_prediction_logging.prediction_client import PredictionClient\n",
    "from domino_data_capture.data_capture_client import DataCaptureClient\n",
    "\n",
    "features = ['density', 'volatile_acidity', 'chlorides', 'is_red', 'alcohol']\n",
    "\n",
    "target = [\"quality\"]\n",
    "\n",
    "# pred_client = PredictionClient(features, target)\n",
    "data_capture_client = DataCaptureClient(features, target)"
   ]
  },
  {
   "cell_type": "code",
   "execution_count": 5,
   "id": "b3b614e5-6157-4c16-a24c-57ee8bbe78b8",
   "metadata": {},
   "outputs": [],
   "source": [
    "def predict(density, volatile_acidity, chlorides, is_red, alcohol, custid=None):\n",
    "    feature_values = [density, volatile_acidity, chlorides, is_red, alcohol]\n",
    "    prediction = model.predict([feature_values]).tolist()\n",
    "\n",
    "\n",
    "    # Record eventID and current time\n",
    "    if custid is None:\n",
    "        print(\"No Customer ID found! Creating a new one.\")\n",
    "        # custid = str(datetime.date.today())+'-'+str(uuid.uuid4())\n",
    "        custid = uuid.uuid4()\n",
    "    print('New Customer ID is: {}'.format(custid))\n",
    "\n",
    "    # pred_client.record(feature_values, prediction, event_id=custid)\n",
    "    data_capture_client.capturePrediction(feature_values, prediction,event_id=custid)\n",
    "\n",
    "    return dict(prediction=prediction[0])"
   ]
  },
  {
   "cell_type": "code",
   "execution_count": 6,
   "id": "bcb7eb0c-8fc8-448b-ab4a-02a1f74ea39c",
   "metadata": {},
   "outputs": [
    {
     "name": "stderr",
     "output_type": "stream",
     "text": [
      "The information shown below represents the structure and format of the prediction data recorded by Domino when this model is deployed as a Domino Model API\n",
      "\n",
      "{\"predictions\": {\"quality\": 5.7417197866546}, \"features\": {\"density\": 1, \"volatile_acidity\": 0.028, \"chlorides\": 0.5, \"is_red\": 0, \"alcohol\": 1}, \"metadata\": null, \"timestamp\": \"2022-03-07T20:03:07.904061+00:00\", \"__domino_timestamp\": \"2022-03-07T20:03:07.904061+00:00\", \"event_id\": \"10000\", \"prediction_probability\": null, \"sample_weight\": null, \"instance_id\": null}\n"
     ]
    },
    {
     "name": "stdout",
     "output_type": "stream",
     "text": [
      "New Customer ID is: 10000\n"
     ]
    },
    {
     "data": {
      "text/plain": [
       "{'prediction': 5.7417197866546}"
      ]
     },
     "execution_count": 6,
     "metadata": {},
     "output_type": "execute_result"
    }
   ],
   "source": [
    "predict(1, 0.028, 0.5, 0, 1,10000)"
   ]
  },
  {
   "cell_type": "code",
   "execution_count": 1,
   "id": "b19dabd7-add8-4e0c-9ef1-e11a9ce3731f",
   "metadata": {},
   "outputs": [],
   "source": [
    "from archive import predict"
   ]
  },
  {
   "cell_type": "code",
   "execution_count": 4,
   "id": "89e6b7ca-1f0d-491e-a013-51bd79defb79",
   "metadata": {},
   "outputs": [
    {
     "name": "stderr",
     "output_type": "stream",
     "text": [
      "The information shown below represents the structure and format of the prediction data recorded by Domino when this model is deployed as a Domino Model API\n",
      "\n",
      "{\"predictions\": {\"quality\": 5.7417197866546}, \"features\": {\"density\": 1, \"volatile_acidity\": 0.028, \"chlorides\": 0.5, \"is_red\": 0, \"alcohol\": 1}, \"metadata\": null, \"timestamp\": \"2022-03-07T21:04:24.000156+00:00\", \"__domino_timestamp\": \"2022-03-07T21:04:24.000156+00:00\", \"event_id\": \"2022-03-07 21:04:24.000118\", \"prediction_probability\": null, \"sample_weight\": null, \"instance_id\": null}\n"
     ]
    },
    {
     "name": "stdout",
     "output_type": "stream",
     "text": [
      "No ID found! Creating a new one.\n",
      "Wine ID is: 2022-03-07 21:04:24.000118\n"
     ]
    },
    {
     "data": {
      "text/plain": [
       "{'prediction': 5.7417197866546}"
      ]
     },
     "execution_count": 4,
     "metadata": {},
     "output_type": "execute_result"
    }
   ],
   "source": [
    "predict.predict(1, 0.028, 0.5, 0, 1)"
   ]
  },
  {
   "cell_type": "code",
   "execution_count": 3,
   "id": "fb2cf67b-2617-4db5-9e47-a0ad03235d7e",
   "metadata": {},
   "outputs": [],
   "source": [
    "import uuid"
   ]
  },
  {
   "cell_type": "code",
   "execution_count": 10,
   "id": "6c4edd4f-8b6f-45c9-90c6-13506b1850b8",
   "metadata": {},
   "outputs": [],
   "source": [
    "import datetime"
   ]
  },
  {
   "cell_type": "code",
   "execution_count": 15,
   "id": "57b80387-3f7d-4882-842f-6673ceb5b71e",
   "metadata": {},
   "outputs": [
    {
     "data": {
      "text/plain": [
       "'2022-03-03 17:38:12.372760'"
      ]
     },
     "execution_count": 15,
     "metadata": {},
     "output_type": "execute_result"
    }
   ],
   "source": [
    "str(datetime.datetime.now())"
   ]
  },
  {
   "cell_type": "code",
   "execution_count": 4,
   "id": "9e1f0b7f-4ed3-423b-9f3a-99d7c73b64d7",
   "metadata": {},
   "outputs": [
    {
     "ename": "ModuleNotFoundError",
     "evalue": "No module named 'sleep'",
     "output_type": "error",
     "traceback": [
      "\u001b[0;31m---------------------------------------------------------------------------\u001b[0m",
      "\u001b[0;31mModuleNotFoundError\u001b[0m                       Traceback (most recent call last)",
      "\u001b[0;32m/tmp/ipykernel_2321/2888963292.py\u001b[0m in \u001b[0;36m<module>\u001b[0;34m\u001b[0m\n\u001b[0;32m----> 1\u001b[0;31m \u001b[0;32mimport\u001b[0m \u001b[0msleep\u001b[0m\u001b[0;34m\u001b[0m\u001b[0;34m\u001b[0m\u001b[0m\n\u001b[0m",
      "\u001b[0;31mModuleNotFoundError\u001b[0m: No module named 'sleep'"
     ]
    }
   ],
   "source": [
    "import "
   ]
  },
  {
   "cell_type": "code",
   "execution_count": null,
   "id": "ee4b0453-8476-4b2f-97ae-0a3d9d26e512",
   "metadata": {},
   "outputs": [],
   "source": []
  }
 ],
 "metadata": {
  "kernelspec": {
   "display_name": "Python 3 (ipykernel)",
   "language": "python",
   "name": "python3"
  },
  "language_info": {
   "codemirror_mode": {
    "name": "ipython",
    "version": 3
   },
   "file_extension": ".py",
   "mimetype": "text/x-python",
   "name": "python",
   "nbconvert_exporter": "python",
   "pygments_lexer": "ipython3",
   "version": "3.8.12"
  }
 },
 "nbformat": 4,
 "nbformat_minor": 5
}

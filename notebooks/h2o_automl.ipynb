{
 "cells": [
  {
   "cell_type": "code",
   "execution_count": 1,
   "id": "49e25c18-f19b-4c8f-b553-2954d8d39d54",
   "metadata": {},
   "outputs": [],
   "source": [
    "import h2o\n",
    "from h2o.automl import H2OAutoML\n",
    "import json\n",
    "import pickle \n",
    "import pandas as pd\n",
    "import random"
   ]
  },
  {
   "cell_type": "code",
   "execution_count": 2,
   "id": "7b456250-02fc-4d75-ba55-b1266c4a5489",
   "metadata": {},
   "outputs": [],
   "source": [
    "#Create a random test train split between 60-80%\n",
    "n =75\n",
    "\n",
    "#read in data, select impotant features, then split into train and test\n",
    "data = pd.read_csv('/domino/datasets/local/wine-data/winequality.csv')\n",
    "data['quality']= data.quality.apply(lambda x :  x * random.randrange(80,120)/100)\n",
    "corr_values = data.corr().sort_values(by = 'quality')['quality'].drop('quality',axis=0)\n",
    "important_feats=corr_values[abs(corr_values)>0.08]\n",
    "data = data[list(important_feats.keys())+['quality']]\n",
    "\n",
    "train = data[0:round(len(data)*n/100)]\n",
    "test = data[train.shape[0]:].reset_index(drop = True)"
   ]
  },
  {
   "cell_type": "code",
   "execution_count": 3,
   "id": "4b87f111-2c38-479f-adaf-d5df5f3bdb1c",
   "metadata": {},
   "outputs": [
    {
     "name": "stdout",
     "output_type": "stream",
     "text": [
      "H2O version -3.36.0.2\n",
      "Checking whether there is an H2O instance running at http://localhost:54321 ..... not found.\n",
      "Attempting to start a local H2O server...\n",
      "  Java Version: openjdk version \"11.0.11\" 2021-04-20; OpenJDK Runtime Environment (build 11.0.11+9-Ubuntu-0ubuntu2.18.04); OpenJDK 64-Bit Server VM (build 11.0.11+9-Ubuntu-0ubuntu2.18.04, mixed mode, sharing)\n",
      "  Starting server from /opt/conda/lib/python3.8/site-packages/h2o/backend/bin/h2o.jar\n",
      "  Ice root: /tmp/tmp83ggbp2o\n",
      "  JVM stdout: /tmp/tmp83ggbp2o/h2o_ubuntu_started_from_python.out\n",
      "  JVM stderr: /tmp/tmp83ggbp2o/h2o_ubuntu_started_from_python.err\n",
      "  Server is running at http://127.0.0.1:54321\n",
      "Connecting to H2O server at http://127.0.0.1:54321 ... successful.\n"
     ]
    },
    {
     "data": {
      "text/html": [
       "<div style=\"overflow:auto\"><table style=\"width:50%\"><tr><td>H2O_cluster_uptime:</td>\n",
       "<td>03 secs</td></tr>\n",
       "<tr><td>H2O_cluster_timezone:</td>\n",
       "<td>Etc/UTC</td></tr>\n",
       "<tr><td>H2O_data_parsing_timezone:</td>\n",
       "<td>UTC</td></tr>\n",
       "<tr><td>H2O_cluster_version:</td>\n",
       "<td>3.36.0.2</td></tr>\n",
       "<tr><td>H2O_cluster_version_age:</td>\n",
       "<td>1 month and 10 days </td></tr>\n",
       "<tr><td>H2O_cluster_name:</td>\n",
       "<td>H2O_from_python_ubuntu_3ajnre</td></tr>\n",
       "<tr><td>H2O_cluster_total_nodes:</td>\n",
       "<td>1</td></tr>\n",
       "<tr><td>H2O_cluster_free_memory:</td>\n",
       "<td>976 Mb</td></tr>\n",
       "<tr><td>H2O_cluster_total_cores:</td>\n",
       "<td>1</td></tr>\n",
       "<tr><td>H2O_cluster_allowed_cores:</td>\n",
       "<td>1</td></tr>\n",
       "<tr><td>H2O_cluster_status:</td>\n",
       "<td>locked, healthy</td></tr>\n",
       "<tr><td>H2O_connection_url:</td>\n",
       "<td>http://127.0.0.1:54321</td></tr>\n",
       "<tr><td>H2O_connection_proxy:</td>\n",
       "<td>{\"http\": null, \"https\": null}</td></tr>\n",
       "<tr><td>H2O_internal_security:</td>\n",
       "<td>False</td></tr>\n",
       "<tr><td>H2O_API_Extensions:</td>\n",
       "<td>Amazon S3, XGBoost, Algos, Infogram, AutoML, Core V3, TargetEncoder, Core V4</td></tr>\n",
       "<tr><td>Python_version:</td>\n",
       "<td>3.8.12 final</td></tr></table></div>"
      ],
      "text/plain": [
       "--------------------------  ----------------------------------------------------------------------------\n",
       "H2O_cluster_uptime:         03 secs\n",
       "H2O_cluster_timezone:       Etc/UTC\n",
       "H2O_data_parsing_timezone:  UTC\n",
       "H2O_cluster_version:        3.36.0.2\n",
       "H2O_cluster_version_age:    1 month and 10 days\n",
       "H2O_cluster_name:           H2O_from_python_ubuntu_3ajnre\n",
       "H2O_cluster_total_nodes:    1\n",
       "H2O_cluster_free_memory:    976 Mb\n",
       "H2O_cluster_total_cores:    1\n",
       "H2O_cluster_allowed_cores:  1\n",
       "H2O_cluster_status:         locked, healthy\n",
       "H2O_connection_url:         http://127.0.0.1:54321\n",
       "H2O_connection_proxy:       {\"http\": null, \"https\": null}\n",
       "H2O_internal_security:      False\n",
       "H2O_API_Extensions:         Amazon S3, XGBoost, Algos, Infogram, AutoML, Core V3, TargetEncoder, Core V4\n",
       "Python_version:             3.8.12 final\n",
       "--------------------------  ----------------------------------------------------------------------------"
      ]
     },
     "metadata": {},
     "output_type": "display_data"
    }
   ],
   "source": [
    "print('H2O version -{}'.format(h2o.__version__))\n",
    "\n",
    "#initailize local h2o\n",
    "h2o.init()"
   ]
  },
  {
   "cell_type": "code",
   "execution_count": 4,
   "id": "eb1e1be7-0d26-4e75-aded-bedaa2f9fdab",
   "metadata": {},
   "outputs": [
    {
     "data": {
      "text/html": [
       "<div>\n",
       "<style scoped>\n",
       "    .dataframe tbody tr th:only-of-type {\n",
       "        vertical-align: middle;\n",
       "    }\n",
       "\n",
       "    .dataframe tbody tr th {\n",
       "        vertical-align: top;\n",
       "    }\n",
       "\n",
       "    .dataframe thead th {\n",
       "        text-align: right;\n",
       "    }\n",
       "</style>\n",
       "<table border=\"1\" class=\"dataframe\">\n",
       "  <thead>\n",
       "    <tr style=\"text-align: right;\">\n",
       "      <th></th>\n",
       "      <th>density</th>\n",
       "      <th>volatile acidity</th>\n",
       "      <th>chlorides</th>\n",
       "      <th>alcohol</th>\n",
       "      <th>quality</th>\n",
       "    </tr>\n",
       "  </thead>\n",
       "  <tbody>\n",
       "    <tr>\n",
       "      <th>0</th>\n",
       "      <td>1.0010</td>\n",
       "      <td>0.27</td>\n",
       "      <td>0.045</td>\n",
       "      <td>8.8</td>\n",
       "      <td>6.48</td>\n",
       "    </tr>\n",
       "    <tr>\n",
       "      <th>1</th>\n",
       "      <td>0.9940</td>\n",
       "      <td>0.30</td>\n",
       "      <td>0.049</td>\n",
       "      <td>9.5</td>\n",
       "      <td>6.30</td>\n",
       "    </tr>\n",
       "    <tr>\n",
       "      <th>2</th>\n",
       "      <td>0.9951</td>\n",
       "      <td>0.28</td>\n",
       "      <td>0.050</td>\n",
       "      <td>10.1</td>\n",
       "      <td>5.58</td>\n",
       "    </tr>\n",
       "    <tr>\n",
       "      <th>3</th>\n",
       "      <td>0.9956</td>\n",
       "      <td>0.23</td>\n",
       "      <td>0.058</td>\n",
       "      <td>9.9</td>\n",
       "      <td>5.76</td>\n",
       "    </tr>\n",
       "    <tr>\n",
       "      <th>4</th>\n",
       "      <td>0.9956</td>\n",
       "      <td>0.23</td>\n",
       "      <td>0.058</td>\n",
       "      <td>9.9</td>\n",
       "      <td>6.60</td>\n",
       "    </tr>\n",
       "  </tbody>\n",
       "</table>\n",
       "</div>"
      ],
      "text/plain": [
       "   density  volatile acidity  chlorides  alcohol  quality\n",
       "0   1.0010              0.27      0.045      8.8     6.48\n",
       "1   0.9940              0.30      0.049      9.5     6.30\n",
       "2   0.9951              0.28      0.050     10.1     5.58\n",
       "3   0.9956              0.23      0.058      9.9     5.76\n",
       "4   0.9956              0.23      0.058      9.9     6.60"
      ]
     },
     "execution_count": 4,
     "metadata": {},
     "output_type": "execute_result"
    }
   ],
   "source": [
    "train.head()"
   ]
  },
  {
   "cell_type": "code",
   "execution_count": 5,
   "id": "8d69977a-8caf-4a6e-ab6f-0de841b524a1",
   "metadata": {},
   "outputs": [
    {
     "name": "stdout",
     "output_type": "stream",
     "text": [
      "Parse progress: |████████████████████████████████████████████████████████████████| (done) 100%\n",
      "Parse progress: |████████████████████████████████████████████████████████████████| (done) 100%\n"
     ]
    }
   ],
   "source": [
    "#Convert data to h2o frames\n",
    "hTrain = h2o.H2OFrame(train)\n",
    "hTest = h2o.H2OFrame(test)\n",
    "\n",
    "# Identify predictors and response\n",
    "x = hTrain.columns\n",
    "y = \"quality\"\n",
    "x.remove(y)\n",
    "\n",
    "# Isolate target vasiable\n",
    "hTrain[y] = hTrain[y]\n",
    "hTest[y] = hTest[y]"
   ]
  },
  {
   "cell_type": "code",
   "execution_count": 6,
   "id": "37ea7c3a-b766-4ac8-a5db-d6ed98d9d9ad",
   "metadata": {
    "tags": []
   },
   "outputs": [
    {
     "name": "stdout",
     "output_type": "stream",
     "text": [
      "AutoML progress: |███████████████████████████████████████████████████████████████| (done) 100%\n",
      "CPU times: user 720 ms, sys: 38.2 ms, total: 758 ms\n",
      "Wall time: 32 s\n",
      "Model Details\n",
      "=============\n",
      "H2ORandomForestEstimator :  Distributed Random Forest\n",
      "Model Key:  DRF_1_AutoML_1_20220307_215652\n",
      "\n",
      "\n",
      "Model Summary: \n"
     ]
    },
    {
     "data": {
      "text/html": [
       "<div>\n",
       "<style scoped>\n",
       "    .dataframe tbody tr th:only-of-type {\n",
       "        vertical-align: middle;\n",
       "    }\n",
       "\n",
       "    .dataframe tbody tr th {\n",
       "        vertical-align: top;\n",
       "    }\n",
       "\n",
       "    .dataframe thead th {\n",
       "        text-align: right;\n",
       "    }\n",
       "</style>\n",
       "<table border=\"1\" class=\"dataframe\">\n",
       "  <thead>\n",
       "    <tr style=\"text-align: right;\">\n",
       "      <th></th>\n",
       "      <th></th>\n",
       "      <th>number_of_trees</th>\n",
       "      <th>number_of_internal_trees</th>\n",
       "      <th>model_size_in_bytes</th>\n",
       "      <th>min_depth</th>\n",
       "      <th>max_depth</th>\n",
       "      <th>mean_depth</th>\n",
       "      <th>min_leaves</th>\n",
       "      <th>max_leaves</th>\n",
       "      <th>mean_leaves</th>\n",
       "    </tr>\n",
       "  </thead>\n",
       "  <tbody>\n",
       "    <tr>\n",
       "      <th>0</th>\n",
       "      <td></td>\n",
       "      <td>3.0</td>\n",
       "      <td>3.0</td>\n",
       "      <td>70798.0</td>\n",
       "      <td>20.0</td>\n",
       "      <td>20.0</td>\n",
       "      <td>20.0</td>\n",
       "      <td>1719.0</td>\n",
       "      <td>1981.0</td>\n",
       "      <td>1875.0</td>\n",
       "    </tr>\n",
       "  </tbody>\n",
       "</table>\n",
       "</div>"
      ],
      "text/plain": [
       "     number_of_trees  number_of_internal_trees  model_size_in_bytes  \\\n",
       "0                3.0                       3.0              70798.0   \n",
       "\n",
       "   min_depth  max_depth  mean_depth  min_leaves  max_leaves  mean_leaves  \n",
       "0       20.0       20.0        20.0      1719.0      1981.0       1875.0  "
      ]
     },
     "metadata": {},
     "output_type": "display_data"
    },
    {
     "name": "stdout",
     "output_type": "stream",
     "text": [
      "\n",
      "\n",
      "ModelMetricsRegression: drf\n",
      "** Reported on train data. **\n",
      "\n",
      "MSE: 1.525817056466354\n",
      "RMSE: 1.2352396757173703\n",
      "MAE: 0.9710448586685918\n",
      "RMSLE: 0.18040649671174927\n",
      "Mean Residual Deviance: 1.525817056466354\n",
      "\n",
      "ModelMetricsRegression: drf\n",
      "** Reported on cross-validation data. **\n",
      "\n",
      "MSE: 1.211946940851476\n",
      "RMSE: 1.1008846174106877\n",
      "MAE: 0.8735112504476691\n",
      "RMSLE: 0.16176482750658483\n",
      "Mean Residual Deviance: 1.211946940851476\n",
      "\n",
      "Cross-Validation Metrics Summary: \n"
     ]
    },
    {
     "data": {
      "text/html": [
       "<div>\n",
       "<style scoped>\n",
       "    .dataframe tbody tr th:only-of-type {\n",
       "        vertical-align: middle;\n",
       "    }\n",
       "\n",
       "    .dataframe tbody tr th {\n",
       "        vertical-align: top;\n",
       "    }\n",
       "\n",
       "    .dataframe thead th {\n",
       "        text-align: right;\n",
       "    }\n",
       "</style>\n",
       "<table border=\"1\" class=\"dataframe\">\n",
       "  <thead>\n",
       "    <tr style=\"text-align: right;\">\n",
       "      <th></th>\n",
       "      <th></th>\n",
       "      <th>mean</th>\n",
       "      <th>sd</th>\n",
       "      <th>cv_1_valid</th>\n",
       "      <th>cv_2_valid</th>\n",
       "      <th>cv_3_valid</th>\n",
       "      <th>cv_4_valid</th>\n",
       "      <th>cv_5_valid</th>\n",
       "    </tr>\n",
       "  </thead>\n",
       "  <tbody>\n",
       "    <tr>\n",
       "      <th>0</th>\n",
       "      <td>mae</td>\n",
       "      <td>0.873504</td>\n",
       "      <td>0.030336</td>\n",
       "      <td>0.901655</td>\n",
       "      <td>0.859553</td>\n",
       "      <td>0.895854</td>\n",
       "      <td>0.882855</td>\n",
       "      <td>0.827603</td>\n",
       "    </tr>\n",
       "    <tr>\n",
       "      <th>1</th>\n",
       "      <td>mean_residual_deviance</td>\n",
       "      <td>1.211928</td>\n",
       "      <td>0.096160</td>\n",
       "      <td>1.343108</td>\n",
       "      <td>1.146183</td>\n",
       "      <td>1.240390</td>\n",
       "      <td>1.236527</td>\n",
       "      <td>1.093431</td>\n",
       "    </tr>\n",
       "    <tr>\n",
       "      <th>2</th>\n",
       "      <td>mse</td>\n",
       "      <td>1.211928</td>\n",
       "      <td>0.096160</td>\n",
       "      <td>1.343108</td>\n",
       "      <td>1.146183</td>\n",
       "      <td>1.240390</td>\n",
       "      <td>1.236527</td>\n",
       "      <td>1.093431</td>\n",
       "    </tr>\n",
       "    <tr>\n",
       "      <th>3</th>\n",
       "      <td>r2</td>\n",
       "      <td>0.050639</td>\n",
       "      <td>0.070195</td>\n",
       "      <td>-0.061054</td>\n",
       "      <td>0.067104</td>\n",
       "      <td>0.062317</td>\n",
       "      <td>0.051569</td>\n",
       "      <td>0.133258</td>\n",
       "    </tr>\n",
       "    <tr>\n",
       "      <th>4</th>\n",
       "      <td>residual_deviance</td>\n",
       "      <td>1.211928</td>\n",
       "      <td>0.096160</td>\n",
       "      <td>1.343108</td>\n",
       "      <td>1.146183</td>\n",
       "      <td>1.240390</td>\n",
       "      <td>1.236527</td>\n",
       "      <td>1.093431</td>\n",
       "    </tr>\n",
       "    <tr>\n",
       "      <th>5</th>\n",
       "      <td>rmse</td>\n",
       "      <td>1.100183</td>\n",
       "      <td>0.043647</td>\n",
       "      <td>1.158925</td>\n",
       "      <td>1.070599</td>\n",
       "      <td>1.113728</td>\n",
       "      <td>1.111992</td>\n",
       "      <td>1.045673</td>\n",
       "    </tr>\n",
       "    <tr>\n",
       "      <th>6</th>\n",
       "      <td>rmsle</td>\n",
       "      <td>0.161680</td>\n",
       "      <td>0.005801</td>\n",
       "      <td>0.170713</td>\n",
       "      <td>0.159381</td>\n",
       "      <td>0.161534</td>\n",
       "      <td>0.161993</td>\n",
       "      <td>0.154780</td>\n",
       "    </tr>\n",
       "  </tbody>\n",
       "</table>\n",
       "</div>"
      ],
      "text/plain": [
       "                               mean        sd  cv_1_valid  cv_2_valid  \\\n",
       "0                     mae  0.873504  0.030336    0.901655    0.859553   \n",
       "1  mean_residual_deviance  1.211928  0.096160    1.343108    1.146183   \n",
       "2                     mse  1.211928  0.096160    1.343108    1.146183   \n",
       "3                      r2  0.050639  0.070195   -0.061054    0.067104   \n",
       "4       residual_deviance  1.211928  0.096160    1.343108    1.146183   \n",
       "5                    rmse  1.100183  0.043647    1.158925    1.070599   \n",
       "6                   rmsle  0.161680  0.005801    0.170713    0.159381   \n",
       "\n",
       "   cv_3_valid  cv_4_valid  cv_5_valid  \n",
       "0    0.895854    0.882855    0.827603  \n",
       "1    1.240390    1.236527    1.093431  \n",
       "2    1.240390    1.236527    1.093431  \n",
       "3    0.062317    0.051569    0.133258  \n",
       "4    1.240390    1.236527    1.093431  \n",
       "5    1.113728    1.111992    1.045673  \n",
       "6    0.161534    0.161993    0.154780  "
      ]
     },
     "metadata": {},
     "output_type": "display_data"
    },
    {
     "name": "stdout",
     "output_type": "stream",
     "text": [
      "\n",
      "Scoring History: \n"
     ]
    },
    {
     "data": {
      "text/html": [
       "<div>\n",
       "<style scoped>\n",
       "    .dataframe tbody tr th:only-of-type {\n",
       "        vertical-align: middle;\n",
       "    }\n",
       "\n",
       "    .dataframe tbody tr th {\n",
       "        vertical-align: top;\n",
       "    }\n",
       "\n",
       "    .dataframe thead th {\n",
       "        text-align: right;\n",
       "    }\n",
       "</style>\n",
       "<table border=\"1\" class=\"dataframe\">\n",
       "  <thead>\n",
       "    <tr style=\"text-align: right;\">\n",
       "      <th></th>\n",
       "      <th></th>\n",
       "      <th>timestamp</th>\n",
       "      <th>duration</th>\n",
       "      <th>number_of_trees</th>\n",
       "      <th>training_rmse</th>\n",
       "      <th>training_mae</th>\n",
       "      <th>training_deviance</th>\n",
       "    </tr>\n",
       "  </thead>\n",
       "  <tbody>\n",
       "    <tr>\n",
       "      <th>0</th>\n",
       "      <td></td>\n",
       "      <td>2022-03-07 21:57:15</td>\n",
       "      <td>1.637 sec</td>\n",
       "      <td>0.0</td>\n",
       "      <td>NaN</td>\n",
       "      <td>NaN</td>\n",
       "      <td>NaN</td>\n",
       "    </tr>\n",
       "    <tr>\n",
       "      <th>1</th>\n",
       "      <td></td>\n",
       "      <td>2022-03-07 21:57:16</td>\n",
       "      <td>1.823 sec</td>\n",
       "      <td>3.0</td>\n",
       "      <td>1.23524</td>\n",
       "      <td>0.971045</td>\n",
       "      <td>1.525817</td>\n",
       "    </tr>\n",
       "  </tbody>\n",
       "</table>\n",
       "</div>"
      ],
      "text/plain": [
       "               timestamp    duration  number_of_trees  training_rmse  \\\n",
       "0    2022-03-07 21:57:15   1.637 sec              0.0            NaN   \n",
       "1    2022-03-07 21:57:16   1.823 sec              3.0        1.23524   \n",
       "\n",
       "   training_mae  training_deviance  \n",
       "0           NaN                NaN  \n",
       "1      0.971045           1.525817  "
      ]
     },
     "metadata": {},
     "output_type": "display_data"
    },
    {
     "name": "stdout",
     "output_type": "stream",
     "text": [
      "\n",
      "Variable Importances: \n"
     ]
    },
    {
     "data": {
      "text/html": [
       "<div>\n",
       "<style scoped>\n",
       "    .dataframe tbody tr th:only-of-type {\n",
       "        vertical-align: middle;\n",
       "    }\n",
       "\n",
       "    .dataframe tbody tr th {\n",
       "        vertical-align: top;\n",
       "    }\n",
       "\n",
       "    .dataframe thead th {\n",
       "        text-align: right;\n",
       "    }\n",
       "</style>\n",
       "<table border=\"1\" class=\"dataframe\">\n",
       "  <thead>\n",
       "    <tr style=\"text-align: right;\">\n",
       "      <th></th>\n",
       "      <th>variable</th>\n",
       "      <th>relative_importance</th>\n",
       "      <th>scaled_importance</th>\n",
       "      <th>percentage</th>\n",
       "    </tr>\n",
       "  </thead>\n",
       "  <tbody>\n",
       "    <tr>\n",
       "      <th>0</th>\n",
       "      <td>alcohol</td>\n",
       "      <td>2904.463135</td>\n",
       "      <td>1.000000</td>\n",
       "      <td>0.287379</td>\n",
       "    </tr>\n",
       "    <tr>\n",
       "      <th>1</th>\n",
       "      <td>density</td>\n",
       "      <td>2749.421875</td>\n",
       "      <td>0.946620</td>\n",
       "      <td>0.272039</td>\n",
       "    </tr>\n",
       "    <tr>\n",
       "      <th>2</th>\n",
       "      <td>volatile acidity</td>\n",
       "      <td>2287.333740</td>\n",
       "      <td>0.787524</td>\n",
       "      <td>0.226318</td>\n",
       "    </tr>\n",
       "    <tr>\n",
       "      <th>3</th>\n",
       "      <td>chlorides</td>\n",
       "      <td>2165.500977</td>\n",
       "      <td>0.745577</td>\n",
       "      <td>0.214263</td>\n",
       "    </tr>\n",
       "  </tbody>\n",
       "</table>\n",
       "</div>"
      ],
      "text/plain": [
       "           variable  relative_importance  scaled_importance  percentage\n",
       "0           alcohol          2904.463135           1.000000    0.287379\n",
       "1           density          2749.421875           0.946620    0.272039\n",
       "2  volatile acidity          2287.333740           0.787524    0.226318\n",
       "3         chlorides          2165.500977           0.745577    0.214263"
      ]
     },
     "metadata": {},
     "output_type": "display_data"
    },
    {
     "data": {
      "text/plain": []
     },
     "execution_count": 6,
     "metadata": {},
     "output_type": "execute_result"
    }
   ],
   "source": [
    "%%time\n",
    "# Run AutoML for 10 base models (limited to 3 min max runtime by default)\n",
    "aml = H2OAutoML(max_models=10, max_runtime_secs=30, sort_metric=\"r2\")\n",
    "aml.train(x=x, y=y, training_frame=hTrain)"
   ]
  },
  {
   "cell_type": "code",
   "execution_count": 7,
   "id": "3e92ce4d-fc8e-417f-882e-7487d6b356ff",
   "metadata": {
    "tags": []
   },
   "outputs": [
    {
     "data": {
      "text/html": [
       "<div>\n",
       "<style scoped>\n",
       "    .dataframe tbody tr th:only-of-type {\n",
       "        vertical-align: middle;\n",
       "    }\n",
       "\n",
       "    .dataframe tbody tr th {\n",
       "        vertical-align: top;\n",
       "    }\n",
       "\n",
       "    .dataframe thead th {\n",
       "        text-align: right;\n",
       "    }\n",
       "</style>\n",
       "<table border=\"1\" class=\"dataframe\">\n",
       "  <thead>\n",
       "    <tr style=\"text-align: right;\">\n",
       "      <th></th>\n",
       "      <th>model_id</th>\n",
       "      <th>r2</th>\n",
       "      <th>mean_residual_deviance</th>\n",
       "      <th>rmse</th>\n",
       "      <th>mse</th>\n",
       "      <th>mae</th>\n",
       "      <th>rmsle</th>\n",
       "    </tr>\n",
       "  </thead>\n",
       "  <tbody>\n",
       "    <tr>\n",
       "      <th>9</th>\n",
       "      <td>StackedEnsemble_BestOfFamily_2_AutoML_1_20220303_211411</td>\n",
       "      <td>0.210877</td>\n",
       "      <td>1.001053</td>\n",
       "      <td>1.000527</td>\n",
       "      <td>1.001053</td>\n",
       "      <td>0.796178</td>\n",
       "      <td>0.147652</td>\n",
       "    </tr>\n",
       "    <tr>\n",
       "      <th>8</th>\n",
       "      <td>StackedEnsemble_BestOfFamily_1_AutoML_1_20220303_211411</td>\n",
       "      <td>0.205061</td>\n",
       "      <td>1.008432</td>\n",
       "      <td>1.004207</td>\n",
       "      <td>1.008432</td>\n",
       "      <td>0.799444</td>\n",
       "      <td>0.148229</td>\n",
       "    </tr>\n",
       "    <tr>\n",
       "      <th>7</th>\n",
       "      <td>GBM_2_AutoML_1_20220303_211411</td>\n",
       "      <td>0.188981</td>\n",
       "      <td>1.028830</td>\n",
       "      <td>1.014313</td>\n",
       "      <td>1.028830</td>\n",
       "      <td>0.806860</td>\n",
       "      <td>0.149915</td>\n",
       "    </tr>\n",
       "    <tr>\n",
       "      <th>6</th>\n",
       "      <td>GBM_1_AutoML_1_20220303_211411</td>\n",
       "      <td>0.186737</td>\n",
       "      <td>1.031677</td>\n",
       "      <td>1.015715</td>\n",
       "      <td>1.031677</td>\n",
       "      <td>0.808846</td>\n",
       "      <td>0.150081</td>\n",
       "    </tr>\n",
       "    <tr>\n",
       "      <th>5</th>\n",
       "      <td>GBM_4_AutoML_1_20220303_211411</td>\n",
       "      <td>0.178849</td>\n",
       "      <td>1.041683</td>\n",
       "      <td>1.020628</td>\n",
       "      <td>1.041683</td>\n",
       "      <td>0.813793</td>\n",
       "      <td>0.150896</td>\n",
       "    </tr>\n",
       "    <tr>\n",
       "      <th>4</th>\n",
       "      <td>GBM_3_AutoML_1_20220303_211411</td>\n",
       "      <td>0.178550</td>\n",
       "      <td>1.042063</td>\n",
       "      <td>1.020815</td>\n",
       "      <td>1.042063</td>\n",
       "      <td>0.812797</td>\n",
       "      <td>0.150891</td>\n",
       "    </tr>\n",
       "    <tr>\n",
       "      <th>3</th>\n",
       "      <td>GLM_1_AutoML_1_20220303_211411</td>\n",
       "      <td>0.151924</td>\n",
       "      <td>1.075839</td>\n",
       "      <td>1.037227</td>\n",
       "      <td>1.075839</td>\n",
       "      <td>0.823891</td>\n",
       "      <td>0.152915</td>\n",
       "    </tr>\n",
       "    <tr>\n",
       "      <th>2</th>\n",
       "      <td>XGBoost_2_AutoML_1_20220303_211411</td>\n",
       "      <td>0.142874</td>\n",
       "      <td>1.087320</td>\n",
       "      <td>1.042747</td>\n",
       "      <td>1.087320</td>\n",
       "      <td>0.829395</td>\n",
       "      <td>0.154049</td>\n",
       "    </tr>\n",
       "    <tr>\n",
       "      <th>1</th>\n",
       "      <td>XGBoost_1_AutoML_1_20220303_211411</td>\n",
       "      <td>0.121423</td>\n",
       "      <td>1.114532</td>\n",
       "      <td>1.055714</td>\n",
       "      <td>1.114532</td>\n",
       "      <td>0.834417</td>\n",
       "      <td>0.155744</td>\n",
       "    </tr>\n",
       "    <tr>\n",
       "      <th>0</th>\n",
       "      <td>DRF_1_AutoML_1_20220303_211411</td>\n",
       "      <td>0.000224</td>\n",
       "      <td>1.268280</td>\n",
       "      <td>1.126179</td>\n",
       "      <td>1.268280</td>\n",
       "      <td>0.885505</td>\n",
       "      <td>0.165513</td>\n",
       "    </tr>\n",
       "  </tbody>\n",
       "</table>\n",
       "</div>"
      ],
      "text/plain": [
       "                                                  model_id        r2  \\\n",
       "9  StackedEnsemble_BestOfFamily_2_AutoML_1_20220303_211411  0.210877   \n",
       "8  StackedEnsemble_BestOfFamily_1_AutoML_1_20220303_211411  0.205061   \n",
       "7                           GBM_2_AutoML_1_20220303_211411  0.188981   \n",
       "6                           GBM_1_AutoML_1_20220303_211411  0.186737   \n",
       "5                           GBM_4_AutoML_1_20220303_211411  0.178849   \n",
       "4                           GBM_3_AutoML_1_20220303_211411  0.178550   \n",
       "3                           GLM_1_AutoML_1_20220303_211411  0.151924   \n",
       "2                       XGBoost_2_AutoML_1_20220303_211411  0.142874   \n",
       "1                       XGBoost_1_AutoML_1_20220303_211411  0.121423   \n",
       "0                           DRF_1_AutoML_1_20220303_211411  0.000224   \n",
       "\n",
       "   mean_residual_deviance      rmse       mse       mae     rmsle  \n",
       "9                1.001053  1.000527  1.001053  0.796178  0.147652  \n",
       "8                1.008432  1.004207  1.008432  0.799444  0.148229  \n",
       "7                1.028830  1.014313  1.028830  0.806860  0.149915  \n",
       "6                1.031677  1.015715  1.031677  0.808846  0.150081  \n",
       "5                1.041683  1.020628  1.041683  0.813793  0.150896  \n",
       "4                1.042063  1.020815  1.042063  0.812797  0.150891  \n",
       "3                1.075839  1.037227  1.075839  0.823891  0.152915  \n",
       "2                1.087320  1.042747  1.087320  0.829395  0.154049  \n",
       "1                1.114532  1.055714  1.114532  0.834417  0.155744  \n",
       "0                1.268280  1.126179  1.268280  0.885505  0.165513  "
      ]
     },
     "execution_count": 7,
     "metadata": {},
     "output_type": "execute_result"
    }
   ],
   "source": [
    "aml.get_leaderboard().as_data_frame().sort_values(by = 'mse', ascending = True)"
   ]
  },
  {
   "cell_type": "code",
   "execution_count": 7,
   "id": "3c447de3-3353-4673-a1c8-6f7b0ede96d1",
   "metadata": {},
   "outputs": [
    {
     "data": {
      "text/plain": [
       "9    0.215202\n",
       "Name: r2, dtype: float64"
      ]
     },
     "execution_count": 7,
     "metadata": {},
     "output_type": "execute_result"
    }
   ],
   "source": [
    "aml.get_leaderboard().as_data_frame().sort_values(by = 'r2', ascending = False)[0:1].r2"
   ]
  },
  {
   "cell_type": "code",
   "execution_count": 8,
   "id": "a8461ed0-539e-4e9b-b7fe-19d8b9bc9e6e",
   "metadata": {},
   "outputs": [
    {
     "name": "stdout",
     "output_type": "stream",
     "text": [
      "gbm prediction progress: |███████████████████████████████████████████████████████| (done) 100%\n"
     ]
    }
   ],
   "source": [
    "import seaborn as sns\n",
    "import numpy as np\n",
    "import pandas as pd\n",
    "best_gbm = aml.get_best_model(criterion = 'mse', algorithm = 'gbm') \n",
    "preds = best_gbm.predict(hTest)"
   ]
  },
  {
   "cell_type": "code",
   "execution_count": 9,
   "id": "7641c726-b51a-491b-b2a6-01ee2d697ece",
   "metadata": {},
   "outputs": [
    {
     "data": {
      "text/plain": [
       "0       5.28\n",
       "1       5.10\n",
       "2       5.46\n",
       "3       6.93\n",
       "4       4.05\n",
       "        ... \n",
       "1619    4.10\n",
       "1620    4.92\n",
       "1621    4.92\n",
       "1622    4.45\n",
       "1623    6.72\n",
       "Name: quality, Length: 1624, dtype: float64"
      ]
     },
     "execution_count": 9,
     "metadata": {},
     "output_type": "execute_result"
    }
   ],
   "source": [
    "hTest.as_data_frame()['quality']"
   ]
  },
  {
   "cell_type": "code",
   "execution_count": 10,
   "id": "ef1a617e-2a69-4af7-a4ad-175a40a989f3",
   "metadata": {},
   "outputs": [
    {
     "data": {
      "text/plain": [
       "<AxesSubplot:ylabel='Count'>"
      ]
     },
     "execution_count": 10,
     "metadata": {},
     "output_type": "execute_result"
    },
    {
     "data": {
      "image/png": "[encoded data removed]",
      "text/plain": [
       "<Figure size 432x288 with 1 Axes>"
      ]
     },
     "metadata": {
      "needs_background": "light"
     },
     "output_type": "display_data"
    }
   ],
   "source": [
    "import seaborn as sns\n",
    "sns.histplot(preds.as_data_frame())"
   ]
  },
  {
   "cell_type": "code",
   "execution_count": 11,
   "id": "6561f1d7-a12c-4384-8e1b-e8c1e0887338",
   "metadata": {},
   "outputs": [
    {
     "data": {
      "text/plain": [
       "<AxesSubplot:xlabel='quality', ylabel='Count'>"
      ]
     },
     "execution_count": 11,
     "metadata": {},
     "output_type": "execute_result"
    },
    {
     "data": {
      "image/png": "[encoded data removed]",
      "text/plain": [
       "<Figure size 432x288 with 1 Axes>"
      ]
     },
     "metadata": {
      "needs_background": "light"
     },
     "output_type": "display_data"
    }
   ],
   "source": [
    "sns.histplot(hTest.as_data_frame()['quality'])"
   ]
  },
  {
   "cell_type": "code",
   "execution_count": 12,
   "id": "dce4a763-cd52-44cb-8b21-59f8fb5a6242",
   "metadata": {},
   "outputs": [
    {
     "name": "stdout",
     "output_type": "stream",
     "text": [
      "R2 Score:  0.196\n",
      "MSE:  1.029\n"
     ]
    }
   ],
   "source": [
    "from sklearn.metrics import r2_score, mean_squared_error\n",
    "#View performance metrics and save them to domino stats!\n",
    "print(\"R2 Score: \", round(best_gbm.r2(xval=True),3))\n",
    "print(\"MSE: \", round(best_gbm.mse(xval=True),3))"
   ]
  },
  {
   "cell_type": "code",
   "execution_count": 13,
   "id": "2b6bc3b9-a53e-42b8-b15b-d9cb68f2d782",
   "metadata": {},
   "outputs": [
    {
     "name": "stdout",
     "output_type": "stream",
     "text": [
      "R2 Score:  0.196\n",
      "MSE:  1.029\n"
     ]
    }
   ],
   "source": [
    "from sklearn.metrics import r2_score, mean_squared_error\n",
    "#View performance metrics and save them to domino stats!\n",
    "\n",
    "r2 = round(best_gbm.r2(xval=True),3)\n",
    "mse = round(best_gbm.mse(xval=True),3)\n",
    "print(\"R2 Score: \", r2)\n",
    "print(\"MSE: \", mse)"
   ]
  },
  {
   "cell_type": "code",
   "execution_count": 14,
   "id": "51646b64-311f-440a-8703-fdd643abd728",
   "metadata": {},
   "outputs": [],
   "source": [
    "results = pd.DataFrame({'Actuals':test.quality, 'Predictions': preds.as_data_frame()['predict']})"
   ]
  },
  {
   "cell_type": "code",
   "execution_count": 15,
   "id": "f74f727c-dac8-4e65-b5b3-ca146fe309c2",
   "metadata": {},
   "outputs": [
    {
     "data": {
      "text/html": [
       "<div>\n",
       "<style scoped>\n",
       "    .dataframe tbody tr th:only-of-type {\n",
       "        vertical-align: middle;\n",
       "    }\n",
       "\n",
       "    .dataframe tbody tr th {\n",
       "        vertical-align: top;\n",
       "    }\n",
       "\n",
       "    .dataframe thead th {\n",
       "        text-align: right;\n",
       "    }\n",
       "</style>\n",
       "<table border=\"1\" class=\"dataframe\">\n",
       "  <thead>\n",
       "    <tr style=\"text-align: right;\">\n",
       "      <th></th>\n",
       "      <th>Actuals</th>\n",
       "      <th>Predictions</th>\n",
       "    </tr>\n",
       "  </thead>\n",
       "  <tbody>\n",
       "    <tr>\n",
       "      <th>0</th>\n",
       "      <td>5.28</td>\n",
       "      <td>6.025926</td>\n",
       "    </tr>\n",
       "    <tr>\n",
       "      <th>1</th>\n",
       "      <td>5.10</td>\n",
       "      <td>5.689201</td>\n",
       "    </tr>\n",
       "    <tr>\n",
       "      <th>2</th>\n",
       "      <td>5.46</td>\n",
       "      <td>5.693499</td>\n",
       "    </tr>\n",
       "    <tr>\n",
       "      <th>3</th>\n",
       "      <td>6.93</td>\n",
       "      <td>5.792188</td>\n",
       "    </tr>\n",
       "    <tr>\n",
       "      <th>4</th>\n",
       "      <td>4.05</td>\n",
       "      <td>5.148415</td>\n",
       "    </tr>\n",
       "    <tr>\n",
       "      <th>...</th>\n",
       "      <td>...</td>\n",
       "      <td>...</td>\n",
       "    </tr>\n",
       "    <tr>\n",
       "      <th>1619</th>\n",
       "      <td>4.10</td>\n",
       "      <td>5.126116</td>\n",
       "    </tr>\n",
       "    <tr>\n",
       "      <th>1620</th>\n",
       "      <td>4.92</td>\n",
       "      <td>5.798315</td>\n",
       "    </tr>\n",
       "    <tr>\n",
       "      <th>1621</th>\n",
       "      <td>4.92</td>\n",
       "      <td>5.888619</td>\n",
       "    </tr>\n",
       "    <tr>\n",
       "      <th>1622</th>\n",
       "      <td>4.45</td>\n",
       "      <td>5.132607</td>\n",
       "    </tr>\n",
       "    <tr>\n",
       "      <th>1623</th>\n",
       "      <td>6.72</td>\n",
       "      <td>6.041735</td>\n",
       "    </tr>\n",
       "  </tbody>\n",
       "</table>\n",
       "<p>1624 rows × 2 columns</p>\n",
       "</div>"
      ],
      "text/plain": [
       "      Actuals  Predictions\n",
       "0        5.28     6.025926\n",
       "1        5.10     5.689201\n",
       "2        5.46     5.693499\n",
       "3        6.93     5.792188\n",
       "4        4.05     5.148415\n",
       "...       ...          ...\n",
       "1619     4.10     5.126116\n",
       "1620     4.92     5.798315\n",
       "1621     4.92     5.888619\n",
       "1622     4.45     5.132607\n",
       "1623     6.72     6.041735\n",
       "\n",
       "[1624 rows x 2 columns]"
      ]
     },
     "execution_count": 15,
     "metadata": {},
     "output_type": "execute_result"
    }
   ],
   "source": [
    "results"
   ]
  },
  {
   "cell_type": "code",
   "execution_count": 16,
   "id": "9442f7a9-b556-4400-8438-0d2f3cb299ca",
   "metadata": {},
   "outputs": [
    {
     "data": {
      "image/png": "[encoded data removed]",
      "text/plain": [
       "<Figure size 720x432 with 1 Axes>"
      ]
     },
     "metadata": {
      "needs_background": "light"
     },
     "output_type": "display_data"
    }
   ],
   "source": [
    "import seaborn as sns\n",
    "import matplotlib.pyplot as plt\n",
    "fig1, ax1 = plt.subplots(figsize=(10,6))\n",
    "plt.title('H2o Actuals vs Predictions Scatter Plot')\n",
    "sns.regplot( \n",
    "    data=results,\n",
    "    x = 'Actuals',\n",
    "    y = 'Predictions',\n",
    "    order = 2)\n",
    "plt.savefig('/mnt/visualizations/h2o_actual_v_pred_scatter.png')"
   ]
  },
  {
   "cell_type": "code",
   "execution_count": 17,
   "id": "7d2e212d-17bd-4017-9865-cdc8ff80f739",
   "metadata": {},
   "outputs": [
    {
     "data": {
      "image/png": "[encoded data removed]",
      "text/plain": [
       "<Figure size 720x432 with 1 Axes>"
      ]
     },
     "metadata": {
      "needs_background": "light"
     },
     "output_type": "display_data"
    }
   ],
   "source": [
    "fig2, ax2 = plt.subplots(figsize=(10,6))\n",
    "plt.title('h2o Actuals vs Predictions Histogram')\n",
    "plt.xlabel('Quality')\n",
    "sns.histplot(results, bins=6, multiple = 'dodge', palette = 'coolwarm')\n",
    "plt.savefig('/mnt/visualizations/h2o_actual_v_pred_hist.png')"
   ]
  },
  {
   "cell_type": "code",
   "execution_count": 24,
   "id": "1f5d6cbc-bac2-49af-94e6-5a04d42ae658",
   "metadata": {},
   "outputs": [
    {
     "data": {
      "text/plain": [
       "'/mnt/models/GBM_2_AutoML_1_20220303_211411'"
      ]
     },
     "execution_count": 24,
     "metadata": {},
     "output_type": "execute_result"
    }
   ],
   "source": [
    "import pickle\n",
    "\n",
    "h2o.save_model(best_gbm, path ='/mnt/models')\n",
    "# pickle.dump(best_gbm, open(file, 'wb'))"
   ]
  },
  {
   "cell_type": "code",
   "execution_count": 26,
   "id": "2cd80ed0-a766-4d46-b253-29ff47d80534",
   "metadata": {},
   "outputs": [
    {
     "ename": "PicklingError",
     "evalue": "Can't pickle <class 'h2o.estimators.gbm.H2OGradientBoostingEstimator'>: it's not the same object as h2o.estimators.gbm.H2OGradientBoostingEstimator",
     "output_type": "error",
     "traceback": [
      "\u001b[0;31m---------------------------------------------------------------------------\u001b[0m",
      "\u001b[0;31mPicklingError\u001b[0m                             Traceback (most recent call last)",
      "\u001b[0;32m/tmp/ipykernel_2452/3607527847.py\u001b[0m in \u001b[0;36m<module>\u001b[0;34m\u001b[0m\n\u001b[1;32m      1\u001b[0m \u001b[0mfile\u001b[0m \u001b[0;34m=\u001b[0m \u001b[0;34m'/mnt/models/h2oautoml.pkl'\u001b[0m\u001b[0;34m\u001b[0m\u001b[0;34m\u001b[0m\u001b[0m\n\u001b[0;32m----> 2\u001b[0;31m \u001b[0mpickle\u001b[0m\u001b[0;34m.\u001b[0m\u001b[0mdump\u001b[0m\u001b[0;34m(\u001b[0m\u001b[0mbest_gbm\u001b[0m\u001b[0;34m,\u001b[0m \u001b[0mopen\u001b[0m\u001b[0;34m(\u001b[0m\u001b[0mfile\u001b[0m\u001b[0;34m,\u001b[0m \u001b[0;34m'wb'\u001b[0m\u001b[0;34m)\u001b[0m\u001b[0;34m)\u001b[0m\u001b[0;34m\u001b[0m\u001b[0;34m\u001b[0m\u001b[0m\n\u001b[0m",
      "\u001b[0;31mPicklingError\u001b[0m: Can't pickle <class 'h2o.estimators.gbm.H2OGradientBoostingEstimator'>: it's not the same object as h2o.estimators.gbm.H2OGradientBoostingEstimator"
     ]
    }
   ],
   "source": [
    "file = '/mnt/models/h2oautoml.pkl'\n",
    "pickle.dump(best_gbm, open(file, 'wb'))"
   ]
  },
  {
   "cell_type": "code",
   "execution_count": 31,
   "id": "7b0b4da1-68c1-49f5-9287-7ca7404d9ad8",
   "metadata": {},
   "outputs": [
    {
     "ename": "EOFError",
     "evalue": "Ran out of input",
     "output_type": "error",
     "traceback": [
      "\u001b[0;31m---------------------------------------------------------------------------\u001b[0m",
      "\u001b[0;31mEOFError\u001b[0m                                  Traceback (most recent call last)",
      "\u001b[0;32m/tmp/ipykernel_2452/594394848.py\u001b[0m in \u001b[0;36m<module>\u001b[0;34m\u001b[0m\n\u001b[0;32m----> 1\u001b[0;31m \u001b[0mpickle\u001b[0m\u001b[0;34m.\u001b[0m\u001b[0mload\u001b[0m\u001b[0;34m(\u001b[0m\u001b[0mopen\u001b[0m\u001b[0;34m(\u001b[0m\u001b[0;34m'/mnt/models/h2oautoml.pkl'\u001b[0m\u001b[0;34m,\u001b[0m \u001b[0;34m'rb'\u001b[0m\u001b[0;34m)\u001b[0m\u001b[0;34m)\u001b[0m\u001b[0;34m\u001b[0m\u001b[0;34m\u001b[0m\u001b[0m\n\u001b[0m",
      "\u001b[0;31mEOFError\u001b[0m: Ran out of input"
     ]
    }
   ],
   "source": [
    "pickle.load(open('/mnt/models/h2oautoml.pkl', 'rb'))"
   ]
  },
  {
   "cell_type": "code",
   "execution_count": 34,
   "id": "927dd99b-7ead-4f5d-bbb6-8a06af9fcff2",
   "metadata": {},
   "outputs": [
    {
     "data": {
      "text/plain": [
       "<AxesSubplot:xlabel='predict', ylabel='Count'>"
      ]
     },
     "execution_count": 34,
     "metadata": {},
     "output_type": "execute_result"
    },
    {
     "data": {
      "image/png": "[encoded data removed]",
      "text/plain": [
       "<Figure size 432x288 with 1 Axes>"
      ]
     },
     "metadata": {
      "needs_background": "light"
     },
     "output_type": "display_data"
    }
   ],
   "source": [
    "sns.histplot(a.as_data_frame()['predict'].apply(lambda x: np.around(x,0)))"
   ]
  },
  {
   "cell_type": "code",
   "execution_count": 45,
   "id": "38168ed9-afde-4200-a422-ffddebaa6a5f",
   "metadata": {},
   "outputs": [
    {
     "data": {
      "text/plain": [
       "<AxesSubplot:xlabel='predict', ylabel='Count'>"
      ]
     },
     "execution_count": 45,
     "metadata": {},
     "output_type": "execute_result"
    },
    {
     "data": {
      "image/png": "[encoded data removed]",
      "text/plain": [
       "<Figure size 432x288 with 1 Axes>"
      ]
     },
     "metadata": {
      "needs_background": "light"
     },
     "output_type": "display_data"
    }
   ],
   "source": [
    "sns.histplot(a.as_data_frame().predict, bins = 10)"
   ]
  },
  {
   "cell_type": "code",
   "execution_count": 53,
   "id": "42465823-f562-49b8-81fe-f724baa20ccf",
   "metadata": {},
   "outputs": [
    {
     "data": {
      "text/plain": [
       "<AxesSubplot:xlabel='quality', ylabel='Count'>"
      ]
     },
     "execution_count": 53,
     "metadata": {},
     "output_type": "execute_result"
    },
    {
     "data": {
      "image/png": "[encoded data removed]",
      "text/plain": [
       "<Figure size 432x288 with 1 Axes>"
      ]
     },
     "metadata": {
      "needs_background": "light"
     },
     "output_type": "display_data"
    }
   ],
   "source": [
    "sns.histplot(test.quality.astype('float64'), bins =10)"
   ]
  },
  {
   "cell_type": "code",
   "execution_count": 52,
   "id": "bf79a695-7edf-460b-846c-98fedfafca3b",
   "metadata": {},
   "outputs": [
    {
     "data": {
      "text/plain": [
       "1.0147360164977757"
      ]
     },
     "execution_count": 52,
     "metadata": {},
     "output_type": "execute_result"
    }
   ],
   "source": [
    "from sklearn.metrics import r2_score, mean_squared_error\n",
    "r2_score(test.quality, a.as_data_frame()['predict'])\n",
    "mean_squared_error(test.quality, a.as_data_frame()['predict'])"
   ]
  },
  {
   "cell_type": "code",
   "execution_count": null,
   "id": "99363c73-d2b4-4afe-9388-c8aec29c4644",
   "metadata": {},
   "outputs": [],
   "source": []
  }
 ],
 "metadata": {
  "kernelspec": {
   "display_name": "Python 3 (ipykernel)",
   "language": "python",
   "name": "python3"
  },
  "language_info": {
   "codemirror_mode": {
    "name": "ipython",
    "version": 3
   },
   "file_extension": ".py",
   "mimetype": "text/x-python",
   "name": "python",
   "nbconvert_exporter": "python",
   "pygments_lexer": "ipython3",
   "version": "3.8.12"
  }
 },
 "nbformat": 4,
 "nbformat_minor": 5
}
